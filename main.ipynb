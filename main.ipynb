{
 "cells": [
  {
   "cell_type": "code",
   "execution_count": null,
   "metadata": {},
   "outputs": [],
   "source": []
  },
  {
   "cell_type": "code",
   "execution_count": null,
   "metadata": {},
   "outputs": [],
   "source": [
    "import matplotlib.pyplot as plt\n",
    "from skimage.io import imread\n",
    "# from skimage import data_dir\n",
    "from skimage.transform import radon, iradon, rescale\n",
    "image = imread(\"./Shepp_logan.jpg\", as_gray=True)\n",
    "image = rescale(image, scale=0.4)\n",
    "plt.figure(figsize=(8, 8.5))\n",
    "plt.subplot(221)\n",
    "plt.title(\"Original\")\n",
    "plt.imshow(image, cmap=plt.cm.Greys_r)\n",
    "plt.subplot(222)\n",
    "projections = radon(image, theta=[0, 45, 90])\n",
    "plt.plot(projections)\n",
    "plt.title(\"Projections at\\n0, 45 and 90 degrees\")\n",
    "plt.xlabel(\"Projection axis\")\n",
    "plt.ylabel(\"Intensity\")\n",
    "projections = radon(image)\n",
    "plt.subplot(223)\n",
    "plt.title(\"Radon transform\\n(Sinogram)\")\n",
    "plt.xlabel(\"Projection axis\")\n",
    "plt.ylabel(\"Intensity\")\n",
    "plt.imshow(projections)\n",
    "reconstruction = iradon(projections)\n",
    "plt.subplot(224)\n",
    "plt.title(\"Reconstruction\\nfrom sinogram\")\n",
    "plt.imshow(reconstruction, cmap=plt.cm.Greys_r)\n",
    "plt.subplots_adjust(hspace=0.4, wspace=0.5)\n",
    "plt.show()"
   ]
  },
  {
   "cell_type": "code",
   "execution_count": 4,
   "metadata": {},
   "outputs": [
    {
     "data": {
      "image/png": "[encoded data removed]",
      "text/plain": [
       "<Figure size 640x480 with 1 Axes>"
      ]
     },
     "metadata": {},
     "output_type": "display_data"
    }
   ],
   "source": [
    "import cv2\n",
    "import numpy as np\n",
    "import matplotlib.pyplot as plt\n",
    "import time\n",
    "from helpers.image_exec import ImageExec\n",
    "import math\n",
    "from ipywidgets import interact\n",
    "\n",
    "img = plt.imread(\"./tomograf-zdjecia/Kropka.jpg\")\n",
    "\n",
    "img_height, img_width, _ = np.shape(img)\n",
    "\n",
    "image = np.asarray(img)\n",
    "pxs = img_height\n",
    "\n",
    "im = ImageExec(image)\n",
    "\n",
    "sr = int(pxs / 2)\n",
    "r = int(sr * math.sqrt(2))\n",
    "\n",
    "sinogram = []\n",
    "\n",
    "for x in np.arange(0, 360, 1):\n",
    "    sinogram.append([])\n",
    "    im.clear_image()\n",
    "    alpha = math.radians(x)\n",
    "    fi = math.radians(1)\n",
    "    n = 50\n",
    "\n",
    "    E_x = int(r * math.cos(alpha)) + sr\n",
    "    E_y = int(r * math.sin(alpha)) + sr\n",
    "\n",
    "    # detectors = list()\n",
    "\n",
    "    # sinogram.append((alpha, ))\n",
    "\n",
    "    for i in range(n):\n",
    "        D_x = int(r * math.cos(alpha + math.pi - fi / 2 + i * (fi / (n - 1)))) + sr\n",
    "        D_y = int(r * math.sin(alpha + math.pi - fi / 2 + i * (fi / (n - 1)))) + sr\n",
    "        _, _, val = im.calc_bresenham_line((E_x,E_y),(D_x,D_y))\n",
    "\n",
    "        # detectors.append(val)\n",
    "        sinogram[-1].append(val)\n",
    "    \n",
    "    # sinogram.append((alpha, detectors))\n",
    "\n",
    "    # plt.imshow(im.image)\n",
    "\n",
    "\n",
    "# for row in sinogram:\n",
    "#   print(math.degrees(row[0]), end = \"\\t\")\n",
    "#   print(row[1], end = \"\\n\")\n",
    "# data = [(row[0],y) for y in row[1] for row in sinogram]\n",
    "# plt.plot([d[0] for d in data], [d[1] for d in data])\n",
    "# plt.show()\n",
    "\n",
    "plt.imshow(sinogram, cmap='gray')\n",
    "plt.show()"
   ]
  }
 ],
 "metadata": {
  "kernelspec": {
   "display_name": "Python 3",
   "language": "python",
   "name": "python3"
  },
  "language_info": {
   "codemirror_mode": {
    "name": "ipython",
    "version": 3
   },
   "file_extension": ".py",
   "mimetype": "text/x-python",
   "name": "python",
   "nbconvert_exporter": "python",
   "pygments_lexer": "ipython3",
   "version": "3.7.8"
  },
  "orig_nbformat": 4,
  "vscode": {
   "interpreter": {
    "hash": "0766075f4ea54d5cd69eb50e4bd586b0647ed2b1fd15ba2dc5f18f5a10537afd"
   }
  }
 },
 "nbformat": 4,
 "nbformat_minor": 2
}
