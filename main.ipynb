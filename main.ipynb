{
 "cells": [
  {
   "cell_type": "code",
   "execution_count": null,
   "metadata": {},
   "outputs": [],
   "source": []
  },
  {
   "cell_type": "code",
   "execution_count": null,
   "metadata": {},
   "outputs": [],
   "source": [
    "import matplotlib.pyplot as plt\n",
    "from skimage.io import imread\n",
    "# from skimage import data_dir\n",
    "from skimage.transform import radon, iradon, rescale\n",
    "image = imread(\"./Shepp_logan.jpg\", as_gray=True)\n",
    "image = rescale(image, scale=0.4)\n",
    "plt.figure(figsize=(8, 8.5))\n",
    "plt.subplot(221)\n",
    "plt.title(\"Original\")\n",
    "plt.imshow(image, cmap=plt.cm.Greys_r)\n",
    "plt.subplot(222)\n",
    "projections = radon(image, theta=[0, 45, 90])\n",
    "plt.plot(projections)\n",
    "plt.title(\"Projections at\\n0, 45 and 90 degrees\")\n",
    "plt.xlabel(\"Projection axis\")\n",
    "plt.ylabel(\"Intensity\")\n",
    "projections = radon(image)\n",
    "plt.subplot(223)\n",
    "plt.title(\"Radon transform\\n(Sinogram)\")\n",
    "plt.xlabel(\"Projection axis\")\n",
    "plt.ylabel(\"Intensity\")\n",
    "plt.imshow(projections)\n",
    "reconstruction = iradon(projections)\n",
    "plt.subplot(224)\n",
    "plt.title(\"Reconstruction\\nfrom sinogram\")\n",
    "plt.imshow(reconstruction, cmap=plt.cm.Greys_r)\n",
    "plt.subplots_adjust(hspace=0.4, wspace=0.5)\n",
    "plt.show()"
   ]
  },
  {
   "cell_type": "code",
   "execution_count": 11,
   "metadata": {},
   "outputs": [
    {
     "data": {
      "application/vnd.jupyter.widget-view+json": {
       "model_id": "c00397588c44484f94c887b40248c6de",
       "version_major": 2,
       "version_minor": 0
      },
      "text/plain": [
       "interactive(children=(IntSlider(value=180, description='x', max=360), Output()), _dom_classes=('widget-interac…"
      ]
     },
     "metadata": {},
     "output_type": "display_data"
    },
    {
     "data": {
      "text/plain": [
       "<function __main__.f(x)>"
      ]
     },
     "execution_count": 11,
     "metadata": {},
     "output_type": "execute_result"
    }
   ],
   "source": [
    "import cv2\n",
    "import numpy as np\n",
    "import matplotlib.pyplot as plt\n",
    "import time\n",
    "from helpers.image_exec import ImageExec\n",
    "import math\n",
    "\n",
    "image = list()\n",
    "\n",
    "pxs = 1000\n",
    "\n",
    "for i in range(pxs + 1):\n",
    "  row = list()\n",
    "  for j in range(pxs + 1):\n",
    "    row.append((0,0,0))\n",
    "  image.append(row)\n",
    "\n",
    "image = np.asarray(image)\n",
    "# print(image)\n",
    "\n",
    "\n",
    "\n",
    "from ipywidgets import interact\n",
    "\n",
    "\n",
    "im = ImageExec(image)\n",
    "\n",
    "# im.draw_bresenham_line((0,0),(99,95), (255,255,255))\n",
    "\n",
    "# print(im.calc_bresenham_line((0,0),(0,99)))\n",
    "sr = int(pxs / 2)\n",
    "r = int(sr * math.sqrt(2));\n",
    "# im.set_pixel(sr, r, color=(255,255,255))\n",
    "\n",
    "def f(x):\n",
    "    im.clear_image()\n",
    "    alpha = math.radians(x)\n",
    "    fi = math.radians(10)\n",
    "    n = 15\n",
    "\n",
    "    E_x = int(r * math.cos(alpha)) + sr\n",
    "    E_y = int(r * math.sin(alpha)) + sr\n",
    "\n",
    "    for i in range(n):\n",
    "      \n",
    "\n",
    "      D_x = int(r * math.cos(alpha + math.pi - fi / 2 + i * (fi / (n - 1)))) + sr\n",
    "      D_y = int(r * math.sin(alpha + math.pi - fi / 2 + i * (fi / (n - 1)))) + sr\n",
    "      im.draw_bresenham_line((E_x,E_y),(D_x,D_y), (255,255,255))\n",
    "\n",
    "    # im.set_pixel(E_x, E_y, (255,0,0));\n",
    "\n",
    "    # print(im.calc_bresenham_line((E_x,E_y),(D_x,D_y)))\n",
    "\n",
    "    plt.imshow(im.image)\n",
    "    return x\n",
    "\n",
    "interact(f, x = (0, 360))\n",
    "\n"
   ]
  }
 ],
 "metadata": {
  "kernelspec": {
   "display_name": "Python 3",
   "language": "python",
   "name": "python3"
  },
  "language_info": {
   "codemirror_mode": {
    "name": "ipython",
    "version": 3
   },
   "file_extension": ".py",
   "mimetype": "text/x-python",
   "name": "python",
   "nbconvert_exporter": "python",
   "pygments_lexer": "ipython3",
   "version": "3.7.8"
  },
  "orig_nbformat": 4,
  "vscode": {
   "interpreter": {
    "hash": "0766075f4ea54d5cd69eb50e4bd586b0647ed2b1fd15ba2dc5f18f5a10537afd"
   }
  }
 },
 "nbformat": 4,
 "nbformat_minor": 2
}
