{
 "cells": [
  {
   "cell_type": "code",
   "execution_count": null,
   "metadata": {},
   "outputs": [],
   "source": []
  },
  {
   "cell_type": "code",
   "execution_count": null,
   "metadata": {},
   "outputs": [],
   "source": [
    "import matplotlib.pyplot as plt\n",
    "from skimage.io import imread\n",
    "# from skimage import data_dir\n",
    "from skimage.transform import radon, iradon, rescale\n",
    "image = imread(\"./Shepp_logan.jpg\", as_gray=True)\n",
    "image = rescale(image, scale=0.4)\n",
    "plt.figure(figsize=(8, 8.5))\n",
    "plt.subplot(221)\n",
    "plt.title(\"Original\")\n",
    "plt.imshow(image, cmap=plt.cm.Greys_r)\n",
    "plt.subplot(222)\n",
    "projections = radon(image, theta=[0, 45, 90])\n",
    "plt.plot(projections)\n",
    "plt.title(\"Projections at\\n0, 45 and 90 degrees\")\n",
    "plt.xlabel(\"Projection axis\")\n",
    "plt.ylabel(\"Intensity\")\n",
    "projections = radon(image)\n",
    "plt.subplot(223)\n",
    "plt.title(\"Radon transform\\n(Sinogram)\")\n",
    "plt.xlabel(\"Projection axis\")\n",
    "plt.ylabel(\"Intensity\")\n",
    "plt.imshow(projections)\n",
    "reconstruction = iradon(projections)\n",
    "plt.subplot(224)\n",
    "plt.title(\"Reconstruction\\nfrom sinogram\")\n",
    "plt.imshow(reconstruction, cmap=plt.cm.Greys_r)\n",
    "plt.subplots_adjust(hspace=0.4, wspace=0.5)\n",
    "plt.show()"
   ]
  },
  {
   "cell_type": "code",
   "execution_count": 2,
   "metadata": {},
   "outputs": [
    {
     "name": "stdout",
     "output_type": "stream",
     "text": [
      "(0, 100)\n"
     ]
    },
    {
     "data": {
      "text/plain": [
       "<matplotlib.image.AxesImage at 0x29770d1b4c0>"
      ]
     },
     "execution_count": 2,
     "metadata": {},
     "output_type": "execute_result"
    },
    {
     "data": {
      "image/png": "[encoded data removed]",
      "text/plain": [
       "<Figure size 640x480 with 1 Axes>"
      ]
     },
     "metadata": {},
     "output_type": "display_data"
    }
   ],
   "source": [
    "import cv2\n",
    "import numpy as np\n",
    "import matplotlib.pyplot as plt\n",
    "import time\n",
    "from helpers.image_exec import ImageExec\n",
    "\n",
    "image = list()\n",
    "\n",
    "for i in range(100):\n",
    "  row = list()\n",
    "  for j in range(100):\n",
    "    row.append((0,0,0))\n",
    "  image.append(row)\n",
    "\n",
    "image = np.asarray(image)\n",
    "# print(image)\n",
    "\n",
    "\n",
    "\n",
    "\n",
    "\n",
    "im = ImageExec(image)\n",
    "\n",
    "# im.draw_bresenham_line((0,0),(0,99), (255,255,255))\n",
    "\n",
    "print(im.calc_bresenham_line((0,0),(0,99)))\n",
    "plt.imshow(im.image)"
   ]
  }
 ],
 "metadata": {
  "kernelspec": {
   "display_name": "venv",
   "language": "python",
   "name": "python3"
  },
  "language_info": {
   "codemirror_mode": {
    "name": "ipython",
    "version": 3
   },
   "file_extension": ".py",
   "mimetype": "text/x-python",
   "name": "python",
   "nbconvert_exporter": "python",
   "pygments_lexer": "ipython3",
   "version": "3.9.2"
  },
  "orig_nbformat": 4
 },
 "nbformat": 4,
 "nbformat_minor": 2
}
